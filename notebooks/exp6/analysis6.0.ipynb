{
 "cells": [
  {
   "cell_type": "code",
   "execution_count": 2,
   "id": "045997c8-5f62-43bc-ad7b-195353f4107c",
   "metadata": {},
   "outputs": [],
   "source": [
    "import pickle\n",
    "\n",
    "import matplotlib.pyplot as plt\n",
    "import numpy as np\n",
    "import pandas as pd\n",
    "import seaborn as sns"
   ]
  },
  {
   "cell_type": "code",
   "execution_count": 3,
   "id": "e75302b2-bda8-46ea-845c-91ba986ebc41",
   "metadata": {},
   "outputs": [
    {
     "name": "stderr",
     "output_type": "stream",
     "text": [
      "/nas/longleaf/home/djpassey/.conda/envs/interfere_exp5/lib/python3.12/site-packages/tqdm/auto.py:21: TqdmWarning: IProgress not found. Please update jupyter and ipywidgets. See https://ipywidgets.readthedocs.io/en/stable/user_install.html\n",
      "  from .autonotebook import tqdm as notebook_tqdm\n"
     ]
    }
   ],
   "source": [
    "DATAFILE = \"/work/users/d/j/djpassey/interfere_exp6.1/stochastic_sweep_studies.pkl\"\n",
    "with open(DATAFILE, \"rb\") as f:\n",
    "    results = pickle.load(f)"
   ]
  },
  {
   "cell_type": "code",
   "execution_count": null,
   "id": "65a67748-0035-4a5a-af8c-4e31746ed53e",
   "metadata": {},
   "outputs": [],
   "source": [
    "studies = results[\"studies\"]"
   ]
  }
 ],
 "metadata": {
  "kernelspec": {
   "display_name": "interfere_exp5",
   "language": "python",
   "name": "interfere_exp5"
  },
  "language_info": {
   "codemirror_mode": {
    "name": "ipython",
    "version": 3
   },
   "file_extension": ".py",
   "mimetype": "text/x-python",
   "name": "python",
   "nbconvert_exporter": "python",
   "pygments_lexer": "ipython3",
   "version": "3.12.5"
  }
 },
 "nbformat": 4,
 "nbformat_minor": 5
}
